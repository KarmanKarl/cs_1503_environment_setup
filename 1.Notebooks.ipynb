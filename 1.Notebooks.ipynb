{
 "cells": [
  {
   "cell_type": "markdown",
   "id": "8905a93d",
   "metadata": {},
   "source": [
    "#FirstTestNotebook"
   ]
  },
  {
   "cell_type": "markdown",
   "id": "8e19fa5e",
   "metadata": {},
   "source": [
    "Camren Christian, 1/25/2024"
   ]
  },
  {
   "cell_type": "markdown",
   "id": "403ab9ee",
   "metadata": {},
   "source": [
    "##Markdown Exercise"
   ]
  },
  {
   "cell_type": "markdown",
   "id": "77a41445",
   "metadata": {},
   "source": [
    "My interest in machine learning is more of a fascination than a devoted interest. I think it will be an interesting subject to learn, but to be completely honest, as with many other courses, I am taking this course for the credit it fulfuills towards the Computer Science major requirements.\n",
    "\n",
    "The following is a list of things I would like to learn in this course:\n",
    "\n",
    "1. How to use Excel more in depth, as I have used Excel in the past, but never really went in depth with all of its functions and mechanics.\n",
    "2. A little bit about statistics, I am taking a statistics course in tandum with this one and I figure with how much this course intertwines with statistics I very well might learn some ideas abd concepts that will help me in that other course.\n",
    "3. How to use python (at least to some extent) as I have only ever used java."
   ]
  },
  {
   "cell_type": "markdown",
   "id": "790dfdbe",
   "metadata": {},
   "source": [
    "![alt text](https://media0.giphy.com/media/v1.Y2lkPTc5MGI3NjExczlocHF1Y2RzbjdwY3AzNDRjaG41YWtheWVuczE5MmVkNTF1YWFjZCZlcD12MV9pbnRlcm5hbF9naWZfYnlfaWQmY3Q9Zw/sJWNLTclcvVmw/giphy.gif \"FunnyAnimal\")"
   ]
  },
  {
   "cell_type": "markdown",
   "id": "4568c85c",
   "metadata": {},
   "source": [
    "## Jupyter Notebook Exercise"
   ]
  },
  {
   "cell_type": "code",
   "execution_count": 2,
   "id": "0e239fbc",
   "metadata": {},
   "outputs": [
    {
     "name": "stdout",
     "output_type": "stream",
     "text": [
      "What is your name? Camren\n",
      "Hello Camren !\n"
     ]
    }
   ],
   "source": [
    "name = input(prompt=\"What is your name? \")\n",
    "print(\"Hello\", name, \"!\")"
   ]
  },
  {
   "cell_type": "code",
   "execution_count": null,
   "id": "9a49b98d",
   "metadata": {},
   "outputs": [],
   "source": []
  }
 ],
 "metadata": {
  "kernelspec": {
   "display_name": "Python 3 (ipykernel)",
   "language": "python",
   "name": "python3"
  },
  "language_info": {
   "codemirror_mode": {
    "name": "ipython",
    "version": 3
   },
   "file_extension": ".py",
   "mimetype": "text/x-python",
   "name": "python",
   "nbconvert_exporter": "python",
   "pygments_lexer": "ipython3",
   "version": "3.11.5"
  }
 },
 "nbformat": 4,
 "nbformat_minor": 5
}
